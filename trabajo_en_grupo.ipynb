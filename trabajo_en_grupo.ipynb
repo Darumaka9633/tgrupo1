{
 "cells": [
  {
   "cell_type": "markdown",
   "id": "63f3732d",
   "metadata": {},
   "source": [
    "# PRUEBA DE GIT BASH EN GRUPO \n",
    "Mataron, mataron un inocente\n",
    "Volando el se fue\n",
    "Mataron, mataron un inocente\n",
    "Volando el se fue fue, pues\n",
    "Ya lo mataron su cuerpo descargado\n",
    "\n",
    "\n",
    "\n"
   ]
  },
  {
   "cell_type": "code",
   "execution_count": 1,
   "id": "57e7a2b4",
   "metadata": {},
   "outputs": [
    {
     "name": "stdout",
     "output_type": "stream",
     "text": [
      "Número entero aleatorio:  7\n",
      "Número decimal aleatorio:  0.5242964564608487\n",
      "Número decimal aleatorio con paso:  1.6664534718821682\n",
      "Elemento aleatorio:  manzana\n",
      "Lista mezclada:  ['banana', 'cereza', 'uva', 'manzana', 'dátil']\n"
     ]
    }
   ],
   "source": [
    "import random\n",
    "\n",
    "# Genera un número entero aleatorio entre 1 y 10\n",
    "numero_entero = random.randint(1, 10)\n",
    "print(\"Número entero aleatorio: \", numero_entero)\n",
    "\n",
    "# Genera un número decimal aleatorio entre 0 y 1\n",
    "numero_decimal = random.random()\n",
    "print(\"Número decimal aleatorio: \", numero_decimal)\n",
    "\n",
    "# Genera un número decimal aleatorio entre 1 y 10 con paso de 0.5\n",
    "numero_decimal_con_paso = random.uniform(1, 10)\n",
    "print(\"Número decimal aleatorio con paso: \", numero_decimal_con_paso)\n",
    "\n",
    "# Genera una lista aleatoria de elementos\n",
    "elementos = ['manzana', 'banana', 'cereza', 'dátil', 'uva']\n",
    "elemento_aleatorio = random.choice(elementos)\n",
    "print(\"Elemento aleatorio: \", elemento_aleatorio)\n",
    "\n",
    "# Mezcla una lista de elementos en su lugar\n",
    "random.shuffle(elementos)\n",
    "print(\"Lista mezclada: \", elementos)"
   ]
  }
 ],
 "metadata": {
  "kernelspec": {
   "display_name": "Python 3 (ipykernel)",
   "language": "python",
   "name": "python3"
  },
  "language_info": {
   "codemirror_mode": {
    "name": "ipython",
    "version": 3
   },
   "file_extension": ".py",
   "mimetype": "text/x-python",
   "name": "python",
   "nbconvert_exporter": "python",
   "pygments_lexer": "ipython3",
   "version": "3.10.9"
  }
 },
 "nbformat": 4,
 "nbformat_minor": 5
}
